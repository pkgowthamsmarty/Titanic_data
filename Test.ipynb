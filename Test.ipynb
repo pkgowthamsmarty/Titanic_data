{
 "cells": [
  {
   "cell_type": "code",
   "execution_count": 39,
   "metadata": {},
   "outputs": [
    {
     "name": "stdout",
     "output_type": "stream",
     "text": [
      "[[43 47]\n",
      " [74 45]\n",
      " [45 95]\n",
      " [23 50]\n",
      " [36 65]\n",
      " [91 11]\n",
      " [51 96]\n",
      " [82  1]\n",
      " [64 61]\n",
      " [46 35]\n",
      " [48 43]\n",
      " [ 5 68]\n",
      " [97 78]\n",
      " [84 18]\n",
      " [12 57]\n",
      " [79 87]\n",
      " [69 53]\n",
      " [39 20]\n",
      " [50 69]\n",
      " [47 70]\n",
      " [76 40]\n",
      " [95 64]\n",
      " [25 93]\n",
      " [59 73]\n",
      " [59 77]\n",
      " [ 5  1]\n",
      " [50 71]\n",
      " [44 59]\n",
      " [94 31]\n",
      " [37 65]\n",
      " [56 51]\n",
      " [50  7]\n",
      " [24 86]\n",
      " [83 69]\n",
      " [ 8 97]\n",
      " [59 47]\n",
      " [42 91]\n",
      " [15 92]\n",
      " [45 53]\n",
      " [63  3]\n",
      " [70  5]\n",
      " [23 54]\n",
      " [22 24]\n",
      " [29  9]\n",
      " [65 87]\n",
      " [15  1]\n",
      " [93 72]\n",
      " [21 83]\n",
      " [89 37]\n",
      " [ 6 36]]\n",
      "[[25]\n",
      " [26]\n",
      " [22]\n",
      " [45]\n",
      " [49]\n",
      " [23]\n",
      " [44]\n",
      " [32]\n",
      " [33]\n",
      " [43]\n",
      " [33]\n",
      " [20]\n",
      " [33]\n",
      " [15]\n",
      " [40]\n",
      " [40]\n",
      " [34]\n",
      " [18]\n",
      " [45]\n",
      " [26]\n",
      " [43]\n",
      " [33]\n",
      " [13]\n",
      " [31]\n",
      " [13]\n",
      " [49]\n",
      " [38]\n",
      " [20]\n",
      " [25]\n",
      " [14]\n",
      " [47]\n",
      " [29]\n",
      " [15]\n",
      " [42]\n",
      " [16]\n",
      " [49]\n",
      " [21]\n",
      " [20]\n",
      " [34]\n",
      " [20]\n",
      " [13]\n",
      " [40]\n",
      " [49]\n",
      " [13]\n",
      " [45]\n",
      " [29]\n",
      " [23]]\n"
     ]
    }
   ],
   "source": [
    "import numpy as np\n",
    "D=3\n",
    "C=47\n",
    "m=6\n",
    "Q1=100\n",
    "Q2=200\n",
    "x = np.random.randint(0,100,size = (C+D,2))\n",
    "print(x)\n",
    "y = np.random.randint(10,50,size = (C,1))\n",
    "print(y)"
   ]
  },
  {
   "cell_type": "code",
   "execution_count": 40,
   "metadata": {},
   "outputs": [
    {
     "name": "stdout",
     "output_type": "stream",
     "text": [
      "[ 0  0  0 25 26 22 45 49 23 44 32 33 43 33 20 33 15 40 40 34 18 45 26 43\n",
      " 33 13 31 13 49 38 20 25 14 47 29 15 42 16 49 21 20 34 20 13 40 49 13 45\n",
      " 29 23]\n"
     ]
    }
   ],
   "source": [
    "for i in range(D):\n",
    "    y=np.insert(y, 0, 0, axis=None)\n",
    "print(y)"
   ]
  },
  {
   "cell_type": "code",
   "execution_count": 41,
   "metadata": {},
   "outputs": [
    {
     "name": "stdout",
     "output_type": "stream",
     "text": [
      "2\n",
      "50\n",
      "[[43 74 45 23 36 91 51 82 64 46 48  5 97 84 12 79 69 39 50 47 76 95 25 59\n",
      "  59  5 50 44 94 37 56 50 24 83  8 59 42 15 45 63 70 23 22 29 65 15 93 21\n",
      "  89  6]\n",
      " [47 45 95 50 65 11 96  1 61 35 43 68 78 18 57 87 53 20 69 70 40 64 93 73\n",
      "  77  1 71 59 31 65 51  7 86 69 97 47 91 92 53  3  5 54 24  9 87  1 72 83\n",
      "  37 36]\n",
      " [ 0  0  0 25 26 22 45 49 23 44 32 33 43 33 20 33 15 40 40 34 18 45 26 43\n",
      "  33 13 31 13 49 38 20 25 14 47 29 15 42 16 49 21 20 34 20 13 40 49 13 45\n",
      "  29 23]]\n"
     ]
    }
   ],
   "source": [
    "x=x.T\n",
    "print(len(x))\n",
    "print(len(y))\n",
    "load = np.vstack([x,y])\n",
    "print(load)"
   ]
  },
  {
   "cell_type": "code",
   "execution_count": null,
   "metadata": {},
   "outputs": [],
   "source": []
  }
 ],
 "metadata": {
  "kernelspec": {
   "display_name": "Python 3",
   "language": "python",
   "name": "python3"
  },
  "language_info": {
   "codemirror_mode": {
    "name": "ipython",
    "version": 3
   },
   "file_extension": ".py",
   "mimetype": "text/x-python",
   "name": "python",
   "nbconvert_exporter": "python",
   "pygments_lexer": "ipython3",
   "version": "3.6.5"
  }
 },
 "nbformat": 4,
 "nbformat_minor": 2
}
